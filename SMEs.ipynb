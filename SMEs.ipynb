{
 "cells": [
  {
   "cell_type": "code",
   "execution_count": 1,
   "metadata": {},
   "outputs": [],
   "source": [
    "import json,folium, pandas as pd,matplotlib.pyplot as plt, seaborn as sns,numpy as np\n",
    "\n",
    "sns.set_context(\"paper\")\n",
    "sns.set_style(\"darkgrid\")"
   ]
  },
  {
   "cell_type": "code",
   "execution_count": 2,
   "metadata": {},
   "outputs": [],
   "source": [
    "dt=pd.read_csv(\"dataset/SMEs_reformated.csv\",index_col=0)\n",
    "us_state_abbrev = json.load(open(\"dataset/us-states-abb.json\"))\n",
    "state_geo = json.load(open(\"dataset/us-states.json\"))\n",
    "geo_info=pd.read_csv(\"dataset/geo_info.csv\")"
   ]
  },
  {
   "cell_type": "code",
   "execution_count": 3,
   "metadata": {
    "scrolled": true
   },
   "outputs": [],
   "source": [
    "state_level_smes=dt[(dt['ENTERPRISE EMPLOYMENT SIZE']==\"19:  <500\")&(dt['NAICS DESCRIPTION']=='Total')&(dt['GEOGRAPHIC AREA DESCRIPTION']!='United States')]\n",
    "state_level_smes=pd.merge(left=state_level_smes,right=geo_info,left_on=' FIPS  CODE',right_on='FIPS')\n",
    "del state_level_smes['FIPS']\n",
    "state_level_smes['NUMBER OF FIRMS INT']=[int(num.replace(',',\"\")) for num in state_level_smes['NUMBER OF FIRMS']]\n",
    "state_level_smes['State']=[us_state_abbrev[state] for state in state_level_smes['GEOGRAPHIC AREA DESCRIPTION']]"
   ]
  },
  {
   "cell_type": "code",
   "execution_count": 4,
   "metadata": {},
   "outputs": [],
   "source": [
    "m = folium.Map(location=[47, -102], zoom_start=4,no_touch=True)\n",
    "folium.Choropleth(\n",
    "    geo_data=state_geo,\n",
    "    data=state_level_smes,\n",
    "    columns=['State', 'NUMBER OF FIRMS INT'],\n",
    "    key_on='feature.id',\n",
    "    fill_color='BuPu',\n",
    "    fill_opacity=0.7,\n",
    "    line_opacity=0.5,\n",
    "    legend_name='Num. of SMEs',\n",
    "    sdafdsa=True\n",
    ").add_to(m)\n",
    "for idx in state_level_smes.index:\n",
    "    folium.CircleMarker(\n",
    "        location=[state_level_smes.loc[idx,'LATITUDE'],state_level_smes.loc[idx,'LONGITUDE']],\n",
    "        fill=True,\n",
    "        tooltip=\"{}, Total Num. of SMEs: {}\".format(state_level_smes.loc[idx,'GEOGRAPHIC AREA DESCRIPTION'],state_level_smes.loc[idx,'NUMBER OF FIRMS']),\n",
    "    ).add_to(m)"
   ]
  },
  {
   "cell_type": "code",
   "execution_count": 5,
   "metadata": {},
   "outputs": [],
   "source": [
    "m.save('maps/total_SMEs.html')"
   ]
  },
  {
   "cell_type": "code",
   "execution_count": 6,
   "metadata": {},
   "outputs": [],
   "source": [
    "state_level_smes=dt[(dt['ENTERPRISE EMPLOYMENT SIZE']==\"19:  <500\")&(dt['NAICS DESCRIPTION']=='Manufacturing')&(dt['GEOGRAPHIC AREA DESCRIPTION']!='United States')]\n",
    "state_level_smes=pd.merge(left=state_level_smes,right=geo_info,left_on=' FIPS  CODE',right_on='FIPS')\n",
    "del state_level_smes['FIPS']\n",
    "state_level_smes['NUMBER OF FIRMS INT']=[int(num.replace(',',\"\")) for num in state_level_smes['NUMBER OF FIRMS']]\n",
    "state_level_smes['State']=[us_state_abbrev[state] for state in state_level_smes['GEOGRAPHIC AREA DESCRIPTION']]"
   ]
  },
  {
   "cell_type": "code",
   "execution_count": 7,
   "metadata": {},
   "outputs": [],
   "source": [
    "m = folium.Map(location=[47, -102], zoom_start=4,no_touch=True)\n",
    "folium.Choropleth(\n",
    "    geo_data=state_geo,\n",
    "    data=state_level_smes,\n",
    "    columns=['State', 'NUMBER OF FIRMS INT'],\n",
    "    key_on='feature.id',\n",
    "    fill_color='BuPu',\n",
    "    fill_opacity=0.7,\n",
    "    line_opacity=0.5,\n",
    "    legend_name='Num. of SMEs in Manufacturing',\n",
    "    sdafdsa=True\n",
    ").add_to(m)\n",
    "for idx in state_level_smes.index:\n",
    "    folium.CircleMarker(\n",
    "        location=[state_level_smes.loc[idx,'LATITUDE'],state_level_smes.loc[idx,'LONGITUDE']],\n",
    "        fill=True,\n",
    "        tooltip=\"{}, Num. of SMEs: {}\".format(state_level_smes.loc[idx,'GEOGRAPHIC AREA DESCRIPTION'],state_level_smes.loc[idx,'NUMBER OF FIRMS']),\n",
    "    ).add_to(m)"
   ]
  },
  {
   "cell_type": "code",
   "execution_count": 8,
   "metadata": {},
   "outputs": [],
   "source": [
    "m.save('maps/Mfg_SMEs.html')"
   ]
  },
  {
   "cell_type": "code",
   "execution_count": null,
   "metadata": {},
   "outputs": [],
   "source": []
  }
 ],
 "metadata": {
  "kernelspec": {
   "display_name": "Python 3",
   "language": "python",
   "name": "python3"
  },
  "language_info": {
   "codemirror_mode": {
    "name": "ipython",
    "version": 3
   },
   "file_extension": ".py",
   "mimetype": "text/x-python",
   "name": "python",
   "nbconvert_exporter": "python",
   "pygments_lexer": "ipython3",
   "version": "3.7.5"
  }
 },
 "nbformat": 4,
 "nbformat_minor": 2
}
